{
 "cells": [
  {
   "cell_type": "markdown",
   "id": "681b58a6-04d4-4df1-abe9-7fc2863c85f3",
   "metadata": {},
   "source": [
    "# Module 1: Data Wrangling with Python"
   ]
  },
  {
   "cell_type": "markdown",
   "id": "5a637654-c4e8-4996-afea-ead620022ca1",
   "metadata": {},
   "source": [
    "## Sprint 3: Data Visualization with Python"
   ]
  },
  {
   "cell_type": "markdown",
   "id": "bae045f3-dc07-4431-9fc5-9007f68ba07c",
   "metadata": {},
   "source": [
    "## Part 5: Coursera Course Analysis"
   ]
  },
  {
   "cell_type": "markdown",
   "id": "361790fe-ae39-4500-a77a-5bfb0f760ebc",
   "metadata": {},
   "source": [
    "## About this Part\n\nCongrats!\nYou have reached the last Part of this Sprint.\nIn this Part, you will need to use all that you learned in this and previous Sprints.\nAs the final assignment of this Sprint, you will analyse the Coursera Course Dataset.\nYou will have to apply all that you have learned about Data Visualization & Data Analysis to complete this task.\nYou'll notice that in this project you have fewer explicitly stated requirements.\nOur expectation is that you'll use your own judgement how to perform the analysis and how to select the most important avenues of exploration.\nYou'll have to iteratively raise hypotheses and use your data analysis skills to get answers.\n\nP.S. we don't expect this project to be perfect - you will continue to improve your skills and there will be many projects for you to apply your newly gained skills in the future.\nFor now just use what you have learned and try your best!\n\n## Objectives for this Part\n\n- Practice working with data from Kaggle.\n- Practice performing basic EDA.\n- Practice visualizing data with Matplotlib & Seaborn.\n- Practice reading data, performing queries and filtering data using Pandas.\n\n## Requirements\n\n- Download the data from [Coursera Course Dataset](https://www.kaggle.com/siddharthm1698/coursera-course-dataset).\n- Load the data using Pandas.\n- Perform data cleaning.\n- Perform exploratory data analysis.\n- Provide clear explanations in your notebook. Your explanations should inform the reader what you are trying to achieve, what results did you get, and what these results mean.\n- Provide suggestions about how your analysis can be improved.\n\n## Evaluation Criteria\n\n- Adherence to the requirements. How well did you meet the requirements?\n- Visualization quality. Did you use charts effectively to visualize patterns in the data? Are your visualizations properly labeled? Did you use colors effectively? Did you adhere to the principle of proportional ink?\n- Code quality. Was your code well-structured? Did you use the appropriate levels of abstraction? Did you remove commented out and unused code? Did you adhere to the PEP8?\n- Code performance. Did you use the suitable algorithms and data structures to solve the problems?\n\n## Project Review\n\nDuring your project review, you should present it as if talking to a technical team lead and a senior co-worker working in your team.\nYou can assume that they will have strong data science and software engineering skills - they will understand technical jargon, they are expected to notice things that could have been done better, ask about the choices you've made (especially if you've made some questionable choices).\nIn addition, be careful not to spend your time explaining trivial concepts or code snippets that are simple - your best bet is to focus your presentation on the more difficult portions of your code.\n\nDuring a project review, you may get asked questions that test your understanding of covered topics.\n\n- What is the difference between continuous and discrete distributions?\n- What is a Bernoulli trial?\n- What is a Standard Normal Distribution?\n- What is a random variable?\n- Explain the Bayes's Theorem\n- Explain the Simpson's paradox\n"
   ]
  },
  {
   "cell_type": "markdown",
   "id": "499bb539-6374-4a76-95f9-15457ea96952",
   "metadata": {},
   "source": [
    "## General Project Review Guidelines\n\nFor an in-depth explanation about how project reviews work at Turing College, please read [this doc](https://turingcollege.atlassian.net/wiki/spaces/DLG/pages/537395951/Peer+expert+reviews+corrections).\n"
   ]
  }
 ],
 "metadata": {
  "kernelspec": {
   "display_name": "Python 3",
   "language": "python",
   "name": "python3"
  },
  "language_info": {
   "codemirror_mode": {
    "name": "ipython",
    "version": 3
   },
   "file_extension": ".py",
   "mimetype": "text/x-python",
   "name": "python",
   "nbconvert_exporter": "python",
   "pygments_lexer": "ipython3",
   "version": "3.9.5"
  }
 },
 "nbformat": 4,
 "nbformat_minor": 5
}
